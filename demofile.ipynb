{
 "cells": [
  {
   "cell_type": "code",
   "execution_count": 1,
   "id": "79fee5db-e6db-4774-a426-0aa538629ca4",
   "metadata": {},
   "outputs": [],
   "source": [
    "# comment"
   ]
  },
  {
   "cell_type": "code",
   "execution_count": 2,
   "id": "1c1250bc-76de-4312-9813-b10b11f99fcb",
   "metadata": {},
   "outputs": [],
   "source": [
    "# eidt"
   ]
  },
  {
   "cell_type": "code",
   "execution_count": null,
   "id": "52a4e0e4-227d-4d0a-abc8-580aa6d60217",
   "metadata": {},
   "outputs": [],
   "source": []
  }
 ],
 "metadata": {
  "kernelspec": {
   "display_name": "Python 3 (ipykernel)",
   "language": "python",
   "name": "python3"
  },
  "language_info": {
   "codemirror_mode": {
    "name": "ipython",
    "version": 3
   },
   "file_extension": ".py",
   "mimetype": "text/x-python",
   "name": "python",
   "nbconvert_exporter": "python",
   "pygments_lexer": "ipython3",
   "version": "3.11.7"
  }
 },
 "nbformat": 4,
 "nbformat_minor": 5
}
